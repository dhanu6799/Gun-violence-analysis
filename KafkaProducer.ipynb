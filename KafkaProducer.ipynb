{
 "cells": [
  {
   "cell_type": "markdown",
   "id": "cae8f197-7203-437d-8e94-2d0f7bde2f88",
   "metadata": {},
   "source": [
    "## Kafka Producer"
   ]
  },
  {
   "cell_type": "code",
   "execution_count": null,
   "id": "44089366-6e70-440f-b90c-7c9aba11625a",
   "metadata": {
    "tags": []
   },
   "outputs": [],
   "source": [
    "!pip3 install confluent_kafka"
   ]
  },
  {
   "cell_type": "markdown",
   "id": "2f4a7157-be73-4da2-90e9-d4db2e1b482a",
   "metadata": {},
   "source": [
    "Here,we are trying to simulate a real world scenario where data is coming via kafka.In order to replicate this scenario,we have created a dummy dataset new-incidents.csv which will actas the datasource for kafka.This data will then be read by the consumer and put into batches."
   ]
  },
  {
   "cell_type": "code",
   "execution_count": 4,
   "id": "e5bb66f3-fcff-4ad2-9526-c7f48a88b46b",
   "metadata": {
    "tags": []
   },
   "outputs": [],
   "source": [
    "import csv\n",
    "from confluent_kafka import Producer\n",
    "import time\n",
    "\n",
    "# Kafka broker address\n",
    "bootstrap_servers = 'localhost:9092'\n",
    "\n",
    "# Create producer configuration\n",
    "conf = {'bootstrap.servers': bootstrap_servers,\n",
    "       'queue.buffering.max.messages': 1000000}  # Adjust the value as needed}\n",
    "    \n",
    "# Create a Kafka producer instance\n",
    "producer = Producer(conf)\n",
    "\n",
    "# Define the topic to which you want to send messages\n",
    "topic = 'incidents'\n",
    "\n",
    "# Function to read CSV and produce messages to Kafka\n",
    "def produce_messages_from_csv(csv_file, producer, topic):\n",
    "    with open(csv_file, 'r') as file:\n",
    "        csv_reader = csv.reader(file, delimiter=',')  \n",
    "        next(csv_reader)\n",
    "        for row in csv_reader:\n",
    "            message = ';'.join(row)\n",
    "            producer.produce(topic, value=message)\n",
    "            time.sleep(1)\n",
    "        producer.flush()\n",
    "        \n",
    "\n",
    "\n",
    "if __name__ == '__main__':\n",
    "    csv_file_path = 'new-incidents.csv'\n",
    "    produce_messages_from_csv(csv_file_path,producer,topic)\n"
   ]
  },
  {
   "cell_type": "code",
   "execution_count": null,
   "id": "f3923916-74e5-4ea3-8d48-fcce5847bbbb",
   "metadata": {},
   "outputs": [],
   "source": []
  }
 ],
 "metadata": {
  "kernelspec": {
   "display_name": "Python 3 (ipykernel)",
   "language": "python",
   "name": "python3"
  },
  "language_info": {
   "codemirror_mode": {
    "name": "ipython",
    "version": 3
   },
   "file_extension": ".py",
   "mimetype": "text/x-python",
   "name": "python",
   "nbconvert_exporter": "python",
   "pygments_lexer": "ipython3",
   "version": "3.11.4"
  }
 },
 "nbformat": 4,
 "nbformat_minor": 5
}
