{
 "cells": [
  {
   "cell_type": "markdown",
   "id": "3124d67c-d86b-46cf-bf81-06036e9fa180",
   "metadata": {},
   "source": [
    "## Kafka Consumer"
   ]
  },
  {
   "cell_type": "markdown",
   "id": "039c40ef-8f1d-4f4b-a964-ee5706d57704",
   "metadata": {},
   "source": [
    "Here,the kafka consumer is reading from the topic incidents,to which the producer was pushing the data.Upon consumption,the data will then be put in a new Directory newDir as csv files."
   ]
  },
  {
   "cell_type": "code",
   "execution_count": 3,
   "id": "ca0ca385-b515-4389-a55f-e3382c708bc6",
   "metadata": {
    "tags": []
   },
   "outputs": [],
   "source": [
    "from confluent_kafka import Consumer, KafkaError\n",
    "import csv\n",
    "import os\n",
    "\n",
    "# Kafka consumer configuration\n",
    "conf = {\n",
    "    'bootstrap.servers': 'localhost:9092',\n",
    "    'group.id': 'gp1',\n",
    "    'auto.offset.reset': 'earliest'\n",
    "}\n",
    "\n",
    "# Create Kafka consumer\n",
    "consumer = Consumer(conf)\n",
    "\n",
    "# Subscribe to the topic\n",
    "topic = 'incidents'\n",
    "consumer.subscribe([topic])\n",
    "\n",
    "# Output directory for writing batch files\n",
    "output_directory = 'newDir/'\n",
    "\n",
    "# Create the output directory if it doesn't exist\n",
    "if not os.path.exists(output_directory):\n",
    "    os.makedirs(output_directory)\n",
    "\n",
    "batch_count = 0\n",
    "\n",
    "try:\n",
    "    while True:\n",
    "        # Poll for new messages\n",
    "        batch = consumer.consume(num_messages=100, timeout=1.0)  # Adjust batch size and timeout as needed\n",
    "        if not batch:\n",
    "            continue\n",
    "        \n",
    "        # Increment batch count\n",
    "        batch_count += 1\n",
    "        \n",
    "        # Create a new file for this batch\n",
    "        batch_file_path = os.path.join(output_directory, f'batch_{batch_count}.csv')\n",
    "        with open(batch_file_path, 'a', newline='') as batch_file:\n",
    "            csv_writer = csv.writer(batch_file)\n",
    "            \n",
    "            for msg in batch:\n",
    "                if msg.error():\n",
    "                    if msg.error().code() == KafkaError._PARTITION_EOF:\n",
    "                        # End of partition\n",
    "                        continue\n",
    "                    else:\n",
    "                        # Error\n",
    "                        print(msg.error())\n",
    "                        break\n",
    "                \n",
    "                # Decode message value from bytes to string and split by semicolon to get rows\n",
    "                row = msg.value().decode('utf-8').split(';')\n",
    "                \n",
    "                # Write row to CSV file\n",
    "                csv_writer.writerow(row)\n",
    "        \n",
    "        print(f\"Batch {batch_count} written to {batch_file_path}\")\n",
    "\n",
    "except KeyboardInterrupt:\n",
    "    pass\n",
    "\n",
    "finally:\n",
    "    # Close Kafka consumer\n",
    "    consumer.close()\n"
   ]
  }
 ],
 "metadata": {
  "kernelspec": {
   "display_name": "Python 3 (ipykernel)",
   "language": "python",
   "name": "python3"
  },
  "language_info": {
   "codemirror_mode": {
    "name": "ipython",
    "version": 3
   },
   "file_extension": ".py",
   "mimetype": "text/x-python",
   "name": "python",
   "nbconvert_exporter": "python",
   "pygments_lexer": "ipython3",
   "version": "3.11.4"
  }
 },
 "nbformat": 4,
 "nbformat_minor": 5
}
